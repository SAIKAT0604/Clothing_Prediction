{
  "nbformat": 4,
  "nbformat_minor": 0,
  "metadata": {
    "kernelspec": {
      "name": "python3",
      "display_name": "Python 3"
    },
    "language_info": {
      "codemirror_mode": {
        "name": "ipython",
        "version": 3
      },
      "file_extension": ".py",
      "mimetype": "text/x-python",
      "name": "python",
      "nbconvert_exporter": "python",
      "pygments_lexer": "ipython3",
      "version": "3.6.6"
    },
    "colab": {
      "name": "Clothing_Classification_CNN.ipynb",
      "provenance": [],
      "collapsed_sections": []
    },
    "accelerator": "GPU"
  },
  "cells": [
    {
      "cell_type": "markdown",
      "metadata": {
        "id": "lAqvSV-zFm19",
        "colab_type": "text"
      },
      "source": [
        "### Clothing_Apparel_Classification"
      ]
    },
    {
      "cell_type": "code",
      "metadata": {
        "id": "NbjOWtxJFm2N",
        "colab_type": "code",
        "colab": {}
      },
      "source": [
        "#Import necessary Libraries\n",
        "\n",
        "import numpy as np\n",
        "from keras.datasets import fashion_mnist"
      ],
      "execution_count": 1,
      "outputs": []
    },
    {
      "cell_type": "code",
      "metadata": {
        "id": "9tlPlQtdG1Ev",
        "colab_type": "code",
        "colab": {
          "base_uri": "https://localhost:8080/",
          "height": 151
        },
        "outputId": "8be94cf8-3060-48f3-f227-4d2917d1afd9"
      },
      "source": [
        "# Load fashion MNIST dataset\n",
        "(x_train, y_train), (x_test, y_test) = fashion_mnist.load_data()"
      ],
      "execution_count": 2,
      "outputs": [
        {
          "output_type": "stream",
          "text": [
            "Downloading data from https://storage.googleapis.com/tensorflow/tf-keras-datasets/train-labels-idx1-ubyte.gz\n",
            "32768/29515 [=================================] - 0s 0us/step\n",
            "Downloading data from https://storage.googleapis.com/tensorflow/tf-keras-datasets/train-images-idx3-ubyte.gz\n",
            "26427392/26421880 [==============================] - 0s 0us/step\n",
            "Downloading data from https://storage.googleapis.com/tensorflow/tf-keras-datasets/t10k-labels-idx1-ubyte.gz\n",
            "8192/5148 [===============================================] - 0s 0us/step\n",
            "Downloading data from https://storage.googleapis.com/tensorflow/tf-keras-datasets/t10k-images-idx3-ubyte.gz\n",
            "4423680/4422102 [==============================] - 0s 0us/step\n"
          ],
          "name": "stdout"
        }
      ]
    },
    {
      "cell_type": "code",
      "metadata": {
        "id": "qbs2QA6qFm26",
        "colab_type": "code",
        "colab": {
          "base_uri": "https://localhost:8080/",
          "height": 134
        },
        "outputId": "1c8606d0-1271-4a08-eafb-718bd4c10bdd"
      },
      "source": [
        "# Explore the dataset\n",
        "# Check the shape and size of x_train, x_test, y_train, y_test\n",
        "print (\"Number of samples/observations in training data: \" + str(len(x_train)))\n",
        "print (\"Number of labels in training data: \" + str(len(y_train)))\n",
        "print (\"Dimensions of a single image in x_train:\" + str(x_train[0].shape))\n",
        "print(\"-------------------------------------------------------------\")\n",
        "print (\"Number of samples/observations in test data: \" + str(len(x_test)))\n",
        "print (\"Number of labels in test data: \" + str(len(y_test)))\n",
        "print (\"Dimensions of single image in x_test:\" + str(x_test[0].shape))\n"
      ],
      "execution_count": 3,
      "outputs": [
        {
          "output_type": "stream",
          "text": [
            "Number of samples/observations in training data: 60000\n",
            "Number of labels in training data: 60000\n",
            "Dimensions of a single image in x_train:(28, 28)\n",
            "-------------------------------------------------------------\n",
            "Number of samples/observations in test data: 10000\n",
            "Number of labels in test data: 10000\n",
            "Dimensions of single image in x_test:(28, 28)\n"
          ],
          "name": "stdout"
        }
      ]
    },
    {
      "cell_type": "markdown",
      "metadata": {
        "id": "hdXkB2axFm3N",
        "colab_type": "text"
      },
      "source": [
        "### View sample images"
      ]
    },
    {
      "cell_type": "code",
      "metadata": {
        "id": "h7IrFmtbFm3Q",
        "colab_type": "code",
        "colab": {
          "base_uri": "https://localhost:8080/",
          "height": 267
        },
        "outputId": "b0c7d20d-f067-4fe4-c68c-35f38e95d2f6"
      },
      "source": [
        "# Visualization library to visualize images \n",
        "import matplotlib.pyplot as plt\n",
        "\n",
        "# Plotting 5 images, Subplot arugments represent nrows, ncols and index\n",
        "# Color map is set to grey since our image dataset is grayscale\n",
        "plt.subplot(231)\n",
        "random_num = np.random.randint(0,len(x_train))\n",
        "plt.imshow(x_train[random_num], cmap=plt.get_cmap('gray'))\n",
        "\n",
        "plt.subplot(232)\n",
        "random_num = np.random.randint(0,len(x_train))\n",
        "plt.imshow(x_train[random_num], cmap=plt.get_cmap('gray'))\n",
        "\n",
        "plt.subplot(233)\n",
        "random_num = np.random.randint(0,len(x_train))\n",
        "plt.imshow(x_train[random_num], cmap=plt.get_cmap('gray'))\n",
        "\n",
        "plt.subplot(234)\n",
        "random_num = np.random.randint(0,len(x_train))\n",
        "plt.imshow(x_train[random_num], cmap=plt.get_cmap('gray'))\n",
        "\n",
        "plt.subplot(235)\n",
        "random_num = np.random.randint(0,len(x_train))\n",
        "plt.imshow(x_train[random_num], cmap=plt.get_cmap('gray'))\n",
        "\n",
        "\n",
        "# Visualize the images\n",
        "plt.show()"
      ],
      "execution_count": 4,
      "outputs": [
        {
          "output_type": "display_data",
          "data": {
            "image/png": "[encoded data removed]",
            "text/plain": [
              "<Figure size 432x288 with 5 Axes>"
            ]
          },
          "metadata": {
            "tags": [],
            "needs_background": "light"
          }
        }
      ]
    },
    {
      "cell_type": "markdown",
      "metadata": {
        "id": "2kOiUxZ1Fm3f",
        "colab_type": "text"
      },
      "source": [
        "### Let's create our model"
      ]
    },
    {
      "cell_type": "code",
      "metadata": {
        "id": "YdCR3JawFm3k",
        "colab_type": "code",
        "colab": {
          "base_uri": "https://localhost:8080/",
          "height": 538
        },
        "outputId": "a86e10dd-5f91-49cd-cf86-29f31014b90b"
      },
      "source": [
        "#Import necessary keras specific libraries\n",
        "\n",
        "from keras.utils import np_utils\n",
        "import keras\n",
        "from keras.models import Sequential\n",
        "from keras.layers import Dense, Dropout, Flatten\n",
        "from keras.layers import Conv2D, MaxPooling2D, BatchNormalization\n",
        "from keras import backend as K\n",
        "\n",
        "# Setting Training Parameters like batch_size, epochs\n",
        "batch_size = 128\n",
        "epochs = 100\n",
        "\n",
        "# Storing the number of rows and columns\n",
        "img_rows = x_train[0].shape[0]\n",
        "img_cols = x_train[1].shape[0]\n",
        "\n",
        "''' Getting the data in the right 'shape' as required by Keras i.e. adding a 4th \n",
        "dimension to our data thereby changing the original image shape of (60000,28,28) \n",
        "to (60000,28,28,1)'''\n",
        "x_train = x_train.reshape(x_train.shape[0], img_rows, img_cols, 1)\n",
        "x_test = x_test.reshape(x_test.shape[0], img_rows, img_cols, 1)\n",
        "\n",
        "# Storing the shape of a single image \n",
        "input_shape = (img_rows, img_cols, 1)\n",
        "\n",
        "# Changing image type to float32 data type\n",
        "x_train = x_train.astype('float32')\n",
        "x_test = x_test.astype('float32')\n",
        "\n",
        "# Normalizing the data by changing the image pixel range from (0 to 255) to (0 to 1)\n",
        "x_train /= 255\n",
        "x_test /= 255\n",
        "\n",
        "# Performing one hot encoding\n",
        "y_train = np_utils.to_categorical(y_train)\n",
        "y_test = np_utils.to_categorical(y_test)\n",
        "\n",
        "# Calculate the number of classes and number of pixels \n",
        "num_classes = y_test.shape[1]\n",
        "num_pixels = x_train.shape[1] * x_train.shape[2]\n",
        "\n",
        "# Create CNN model\n",
        "model = Sequential()\n",
        "\n",
        "model.add(Conv2D(32, kernel_size=(3, 3),\n",
        "                 activation='relu',\n",
        "                 input_shape=input_shape))\n",
        "model.add(BatchNormalization())\n",
        "\n",
        "model.add(Conv2D(64, (3, 3), activation='relu'))\n",
        "model.add(BatchNormalization())\n",
        "\n",
        "model.add(MaxPooling2D(pool_size=(2, 2)))\n",
        "model.add(Dropout(0.25))\n",
        "\n",
        "model.add(Flatten())\n",
        "model.add(Dense(128, activation='relu'))\n",
        "model.add(BatchNormalization())\n",
        "\n",
        "model.add(Dropout(0.5))\n",
        "model.add(Dense(num_classes, activation='softmax'))\n",
        "\n",
        "model.compile(loss = 'categorical_crossentropy',\n",
        "              optimizer = keras.optimizers.Adadelta(),\n",
        "              metrics = ['accuracy'])\n",
        "\n",
        "print(model.summary())"
      ],
      "execution_count": 5,
      "outputs": [
        {
          "output_type": "stream",
          "text": [
            "Model: \"sequential\"\n",
            "_________________________________________________________________\n",
            "Layer (type)                 Output Shape              Param #   \n",
            "=================================================================\n",
            "conv2d (Conv2D)              (None, 26, 26, 32)        320       \n",
            "_________________________________________________________________\n",
            "batch_normalization (BatchNo (None, 26, 26, 32)        128       \n",
            "_________________________________________________________________\n",
            "conv2d_1 (Conv2D)            (None, 24, 24, 64)        18496     \n",
            "_________________________________________________________________\n",
            "batch_normalization_1 (Batch (None, 24, 24, 64)        256       \n",
            "_________________________________________________________________\n",
            "max_pooling2d (MaxPooling2D) (None, 12, 12, 64)        0         \n",
            "_________________________________________________________________\n",
            "dropout (Dropout)            (None, 12, 12, 64)        0         \n",
            "_________________________________________________________________\n",
            "flatten (Flatten)            (None, 9216)              0         \n",
            "_________________________________________________________________\n",
            "dense (Dense)                (None, 128)               1179776   \n",
            "_________________________________________________________________\n",
            "batch_normalization_2 (Batch (None, 128)               512       \n",
            "_________________________________________________________________\n",
            "dropout_1 (Dropout)          (None, 128)               0         \n",
            "_________________________________________________________________\n",
            "dense_1 (Dense)              (None, 10)                1290      \n",
            "=================================================================\n",
            "Total params: 1,200,778\n",
            "Trainable params: 1,200,330\n",
            "Non-trainable params: 448\n",
            "_________________________________________________________________\n",
            "None\n"
          ],
          "name": "stdout"
        }
      ]
    },
    {
      "cell_type": "markdown",
      "metadata": {
        "id": "qzoS-5OcFm3w",
        "colab_type": "text"
      },
      "source": [
        "### Let's train our model"
      ]
    },
    {
      "cell_type": "code",
      "metadata": {
        "id": "bACuyHMEFm3y",
        "colab_type": "code",
        "colab": {
          "base_uri": "https://localhost:8080/",
          "height": 1000
        },
        "outputId": "62bf89b9-6306-4ea0-d69b-cb1c01e8059e"
      },
      "source": [
        "model_fitting = model.fit(x_train, y_train,\n",
        "          batch_size=batch_size,\n",
        "          epochs=epochs,\n",
        "          verbose=1,\n",
        "          validation_data=(x_test, y_test))\n",
        "\n",
        "score = model.evaluate(x_test, y_test, verbose=0)\n",
        "print('Test loss:', score[0])\n",
        "print('Test accuracy:', score[1])"
      ],
      "execution_count": 7,
      "outputs": [
        {
          "output_type": "stream",
          "text": [
            "Epoch 1/100\n",
            "469/469 [==============================] - 8s 18ms/step - loss: 1.7925 - accuracy: 0.4411 - val_loss: 0.9907 - val_accuracy: 0.6666\n",
            "Epoch 2/100\n",
            "469/469 [==============================] - 8s 17ms/step - loss: 1.3286 - accuracy: 0.5727 - val_loss: 0.7995 - val_accuracy: 0.7237\n",
            "Epoch 3/100\n",
            "469/469 [==============================] - 8s 17ms/step - loss: 1.1342 - accuracy: 0.6325 - val_loss: 0.7151 - val_accuracy: 0.7489\n",
            "Epoch 4/100\n",
            "469/469 [==============================] - 8s 17ms/step - loss: 1.0160 - accuracy: 0.6670 - val_loss: 0.6631 - val_accuracy: 0.7635\n",
            "Epoch 5/100\n",
            "469/469 [==============================] - 8s 17ms/step - loss: 0.9310 - accuracy: 0.6910 - val_loss: 0.6272 - val_accuracy: 0.7765\n",
            "Epoch 6/100\n",
            "469/469 [==============================] - 8s 17ms/step - loss: 0.8879 - accuracy: 0.7057 - val_loss: 0.6008 - val_accuracy: 0.7867\n",
            "Epoch 7/100\n",
            "469/469 [==============================] - 8s 17ms/step - loss: 0.8389 - accuracy: 0.7201 - val_loss: 0.5787 - val_accuracy: 0.7939\n",
            "Epoch 8/100\n",
            "469/469 [==============================] - 8s 17ms/step - loss: 0.8084 - accuracy: 0.7311 - val_loss: 0.5614 - val_accuracy: 0.8013\n",
            "Epoch 9/100\n",
            "469/469 [==============================] - 8s 17ms/step - loss: 0.7776 - accuracy: 0.7378 - val_loss: 0.5469 - val_accuracy: 0.8063\n",
            "Epoch 10/100\n",
            "469/469 [==============================] - 8s 17ms/step - loss: 0.7523 - accuracy: 0.7454 - val_loss: 0.5344 - val_accuracy: 0.8108\n",
            "Epoch 11/100\n",
            "469/469 [==============================] - 8s 17ms/step - loss: 0.7321 - accuracy: 0.7535 - val_loss: 0.5233 - val_accuracy: 0.8146\n",
            "Epoch 12/100\n",
            "469/469 [==============================] - 8s 17ms/step - loss: 0.7173 - accuracy: 0.7571 - val_loss: 0.5135 - val_accuracy: 0.8195\n",
            "Epoch 13/100\n",
            "469/469 [==============================] - 8s 17ms/step - loss: 0.6952 - accuracy: 0.7650 - val_loss: 0.5051 - val_accuracy: 0.8239\n",
            "Epoch 14/100\n",
            "469/469 [==============================] - 8s 17ms/step - loss: 0.6763 - accuracy: 0.7715 - val_loss: 0.4971 - val_accuracy: 0.8257\n",
            "Epoch 15/100\n",
            "469/469 [==============================] - 8s 17ms/step - loss: 0.6709 - accuracy: 0.7726 - val_loss: 0.4905 - val_accuracy: 0.8273\n",
            "Epoch 16/100\n",
            "469/469 [==============================] - 8s 17ms/step - loss: 0.6574 - accuracy: 0.7761 - val_loss: 0.4840 - val_accuracy: 0.8303\n",
            "Epoch 17/100\n",
            "469/469 [==============================] - 8s 17ms/step - loss: 0.6473 - accuracy: 0.7811 - val_loss: 0.4779 - val_accuracy: 0.8337\n",
            "Epoch 18/100\n",
            "469/469 [==============================] - 8s 17ms/step - loss: 0.6392 - accuracy: 0.7855 - val_loss: 0.4727 - val_accuracy: 0.8356\n",
            "Epoch 19/100\n",
            "469/469 [==============================] - 8s 17ms/step - loss: 0.6281 - accuracy: 0.7856 - val_loss: 0.4674 - val_accuracy: 0.8378\n",
            "Epoch 20/100\n",
            "469/469 [==============================] - 8s 17ms/step - loss: 0.6142 - accuracy: 0.7923 - val_loss: 0.4625 - val_accuracy: 0.8385\n",
            "Epoch 21/100\n",
            "469/469 [==============================] - 8s 17ms/step - loss: 0.6148 - accuracy: 0.7913 - val_loss: 0.4576 - val_accuracy: 0.8401\n",
            "Epoch 22/100\n",
            "469/469 [==============================] - 8s 17ms/step - loss: 0.6013 - accuracy: 0.7950 - val_loss: 0.4535 - val_accuracy: 0.8417\n",
            "Epoch 23/100\n",
            "469/469 [==============================] - 8s 17ms/step - loss: 0.5917 - accuracy: 0.7982 - val_loss: 0.4496 - val_accuracy: 0.8436\n",
            "Epoch 24/100\n",
            "469/469 [==============================] - 8s 17ms/step - loss: 0.5870 - accuracy: 0.8010 - val_loss: 0.4457 - val_accuracy: 0.8441\n",
            "Epoch 25/100\n",
            "469/469 [==============================] - 8s 17ms/step - loss: 0.5797 - accuracy: 0.8039 - val_loss: 0.4421 - val_accuracy: 0.8461\n",
            "Epoch 26/100\n",
            "469/469 [==============================] - 8s 17ms/step - loss: 0.5766 - accuracy: 0.8056 - val_loss: 0.4387 - val_accuracy: 0.8485\n",
            "Epoch 27/100\n",
            "469/469 [==============================] - 8s 17ms/step - loss: 0.5711 - accuracy: 0.8069 - val_loss: 0.4352 - val_accuracy: 0.8495\n",
            "Epoch 28/100\n",
            "469/469 [==============================] - 8s 17ms/step - loss: 0.5608 - accuracy: 0.8094 - val_loss: 0.4322 - val_accuracy: 0.8517\n",
            "Epoch 29/100\n",
            "469/469 [==============================] - 8s 17ms/step - loss: 0.5595 - accuracy: 0.8116 - val_loss: 0.4295 - val_accuracy: 0.8515\n",
            "Epoch 30/100\n",
            "469/469 [==============================] - 8s 17ms/step - loss: 0.5570 - accuracy: 0.8122 - val_loss: 0.4262 - val_accuracy: 0.8536\n",
            "Epoch 31/100\n",
            "469/469 [==============================] - 8s 17ms/step - loss: 0.5471 - accuracy: 0.8142 - val_loss: 0.4240 - val_accuracy: 0.8538\n",
            "Epoch 32/100\n",
            "469/469 [==============================] - 8s 17ms/step - loss: 0.5431 - accuracy: 0.8152 - val_loss: 0.4208 - val_accuracy: 0.8549\n",
            "Epoch 33/100\n",
            "469/469 [==============================] - 9s 18ms/step - loss: 0.5378 - accuracy: 0.8162 - val_loss: 0.4182 - val_accuracy: 0.8561\n",
            "Epoch 34/100\n",
            "469/469 [==============================] - 8s 17ms/step - loss: 0.5375 - accuracy: 0.8180 - val_loss: 0.4161 - val_accuracy: 0.8566\n",
            "Epoch 35/100\n",
            "469/469 [==============================] - 8s 17ms/step - loss: 0.5299 - accuracy: 0.8194 - val_loss: 0.4139 - val_accuracy: 0.8568\n",
            "Epoch 36/100\n",
            "469/469 [==============================] - 8s 17ms/step - loss: 0.5276 - accuracy: 0.8203 - val_loss: 0.4112 - val_accuracy: 0.8593\n",
            "Epoch 37/100\n",
            "469/469 [==============================] - 8s 17ms/step - loss: 0.5240 - accuracy: 0.8230 - val_loss: 0.4095 - val_accuracy: 0.8583\n",
            "Epoch 38/100\n",
            "469/469 [==============================] - 8s 17ms/step - loss: 0.5189 - accuracy: 0.8245 - val_loss: 0.4074 - val_accuracy: 0.8599\n",
            "Epoch 39/100\n",
            "469/469 [==============================] - 8s 17ms/step - loss: 0.5165 - accuracy: 0.8253 - val_loss: 0.4048 - val_accuracy: 0.8604\n",
            "Epoch 40/100\n",
            "469/469 [==============================] - 8s 17ms/step - loss: 0.5120 - accuracy: 0.8264 - val_loss: 0.4028 - val_accuracy: 0.8606\n",
            "Epoch 41/100\n",
            "469/469 [==============================] - 8s 17ms/step - loss: 0.5104 - accuracy: 0.8256 - val_loss: 0.4008 - val_accuracy: 0.8620\n",
            "Epoch 42/100\n",
            "469/469 [==============================] - 8s 17ms/step - loss: 0.5023 - accuracy: 0.8285 - val_loss: 0.3988 - val_accuracy: 0.8631\n",
            "Epoch 43/100\n",
            "469/469 [==============================] - 8s 17ms/step - loss: 0.5065 - accuracy: 0.8270 - val_loss: 0.3970 - val_accuracy: 0.8622\n",
            "Epoch 44/100\n",
            "469/469 [==============================] - 8s 17ms/step - loss: 0.5036 - accuracy: 0.8269 - val_loss: 0.3951 - val_accuracy: 0.8639\n",
            "Epoch 45/100\n",
            "469/469 [==============================] - 8s 17ms/step - loss: 0.4959 - accuracy: 0.8316 - val_loss: 0.3937 - val_accuracy: 0.8639\n",
            "Epoch 46/100\n",
            "469/469 [==============================] - 8s 17ms/step - loss: 0.4922 - accuracy: 0.8326 - val_loss: 0.3916 - val_accuracy: 0.8648\n",
            "Epoch 47/100\n",
            "469/469 [==============================] - 8s 17ms/step - loss: 0.4885 - accuracy: 0.8342 - val_loss: 0.3896 - val_accuracy: 0.8649\n",
            "Epoch 48/100\n",
            "469/469 [==============================] - 8s 17ms/step - loss: 0.4882 - accuracy: 0.8340 - val_loss: 0.3882 - val_accuracy: 0.8653\n",
            "Epoch 49/100\n",
            "469/469 [==============================] - 8s 17ms/step - loss: 0.4844 - accuracy: 0.8339 - val_loss: 0.3866 - val_accuracy: 0.8662\n",
            "Epoch 50/100\n",
            "469/469 [==============================] - 8s 17ms/step - loss: 0.4878 - accuracy: 0.8340 - val_loss: 0.3856 - val_accuracy: 0.8661\n",
            "Epoch 51/100\n",
            "469/469 [==============================] - 8s 17ms/step - loss: 0.4777 - accuracy: 0.8360 - val_loss: 0.3837 - val_accuracy: 0.8673\n",
            "Epoch 52/100\n",
            "469/469 [==============================] - 8s 17ms/step - loss: 0.4731 - accuracy: 0.8389 - val_loss: 0.3827 - val_accuracy: 0.8674\n",
            "Epoch 53/100\n",
            "469/469 [==============================] - 8s 17ms/step - loss: 0.4757 - accuracy: 0.8382 - val_loss: 0.3807 - val_accuracy: 0.8683\n",
            "Epoch 54/100\n",
            "469/469 [==============================] - 8s 17ms/step - loss: 0.4737 - accuracy: 0.8390 - val_loss: 0.3795 - val_accuracy: 0.8680\n",
            "Epoch 55/100\n",
            "469/469 [==============================] - 8s 17ms/step - loss: 0.4684 - accuracy: 0.8411 - val_loss: 0.3775 - val_accuracy: 0.8692\n",
            "Epoch 56/100\n",
            "469/469 [==============================] - 8s 17ms/step - loss: 0.4660 - accuracy: 0.8410 - val_loss: 0.3766 - val_accuracy: 0.8696\n",
            "Epoch 57/100\n",
            "469/469 [==============================] - 8s 17ms/step - loss: 0.4670 - accuracy: 0.8412 - val_loss: 0.3749 - val_accuracy: 0.8700\n",
            "Epoch 58/100\n",
            "469/469 [==============================] - 8s 17ms/step - loss: 0.4668 - accuracy: 0.8408 - val_loss: 0.3736 - val_accuracy: 0.8704\n",
            "Epoch 59/100\n",
            "469/469 [==============================] - 8s 17ms/step - loss: 0.4586 - accuracy: 0.8421 - val_loss: 0.3724 - val_accuracy: 0.8709\n",
            "Epoch 60/100\n",
            "469/469 [==============================] - 8s 17ms/step - loss: 0.4613 - accuracy: 0.8422 - val_loss: 0.3710 - val_accuracy: 0.8713\n",
            "Epoch 61/100\n",
            "469/469 [==============================] - 8s 17ms/step - loss: 0.4587 - accuracy: 0.8437 - val_loss: 0.3698 - val_accuracy: 0.8711\n",
            "Epoch 62/100\n",
            "469/469 [==============================] - 8s 17ms/step - loss: 0.4562 - accuracy: 0.8442 - val_loss: 0.3685 - val_accuracy: 0.8717\n",
            "Epoch 63/100\n",
            "469/469 [==============================] - 8s 17ms/step - loss: 0.4522 - accuracy: 0.8436 - val_loss: 0.3670 - val_accuracy: 0.8719\n",
            "Epoch 64/100\n",
            "469/469 [==============================] - 8s 17ms/step - loss: 0.4483 - accuracy: 0.8464 - val_loss: 0.3662 - val_accuracy: 0.8728\n",
            "Epoch 65/100\n",
            "469/469 [==============================] - 8s 17ms/step - loss: 0.4496 - accuracy: 0.8459 - val_loss: 0.3651 - val_accuracy: 0.8734\n",
            "Epoch 66/100\n",
            "469/469 [==============================] - 8s 17ms/step - loss: 0.4493 - accuracy: 0.8467 - val_loss: 0.3635 - val_accuracy: 0.8734\n",
            "Epoch 67/100\n",
            "469/469 [==============================] - 8s 17ms/step - loss: 0.4435 - accuracy: 0.8479 - val_loss: 0.3629 - val_accuracy: 0.8738\n",
            "Epoch 68/100\n",
            "469/469 [==============================] - 8s 17ms/step - loss: 0.4448 - accuracy: 0.8478 - val_loss: 0.3617 - val_accuracy: 0.8742\n",
            "Epoch 69/100\n",
            "469/469 [==============================] - 8s 17ms/step - loss: 0.4421 - accuracy: 0.8495 - val_loss: 0.3604 - val_accuracy: 0.8752\n",
            "Epoch 70/100\n",
            "469/469 [==============================] - 8s 17ms/step - loss: 0.4423 - accuracy: 0.8482 - val_loss: 0.3590 - val_accuracy: 0.8752\n",
            "Epoch 71/100\n",
            "469/469 [==============================] - 8s 18ms/step - loss: 0.4386 - accuracy: 0.8500 - val_loss: 0.3585 - val_accuracy: 0.8759\n",
            "Epoch 72/100\n",
            "469/469 [==============================] - 8s 18ms/step - loss: 0.4372 - accuracy: 0.8508 - val_loss: 0.3573 - val_accuracy: 0.8766\n",
            "Epoch 73/100\n",
            "469/469 [==============================] - 8s 17ms/step - loss: 0.4387 - accuracy: 0.8493 - val_loss: 0.3561 - val_accuracy: 0.8768\n",
            "Epoch 74/100\n",
            "469/469 [==============================] - 8s 17ms/step - loss: 0.4327 - accuracy: 0.8511 - val_loss: 0.3549 - val_accuracy: 0.8765\n",
            "Epoch 75/100\n",
            "469/469 [==============================] - 8s 17ms/step - loss: 0.4349 - accuracy: 0.8490 - val_loss: 0.3544 - val_accuracy: 0.8768\n",
            "Epoch 76/100\n",
            "469/469 [==============================] - 8s 17ms/step - loss: 0.4329 - accuracy: 0.8514 - val_loss: 0.3535 - val_accuracy: 0.8776\n",
            "Epoch 77/100\n",
            "469/469 [==============================] - 8s 17ms/step - loss: 0.4297 - accuracy: 0.8528 - val_loss: 0.3525 - val_accuracy: 0.8780\n",
            "Epoch 78/100\n",
            "469/469 [==============================] - 8s 17ms/step - loss: 0.4267 - accuracy: 0.8525 - val_loss: 0.3520 - val_accuracy: 0.8784\n",
            "Epoch 79/100\n",
            "469/469 [==============================] - 8s 17ms/step - loss: 0.4228 - accuracy: 0.8542 - val_loss: 0.3505 - val_accuracy: 0.8792\n",
            "Epoch 80/100\n",
            "469/469 [==============================] - 8s 17ms/step - loss: 0.4255 - accuracy: 0.8563 - val_loss: 0.3500 - val_accuracy: 0.8788\n",
            "Epoch 81/100\n",
            "469/469 [==============================] - 8s 18ms/step - loss: 0.4221 - accuracy: 0.8549 - val_loss: 0.3489 - val_accuracy: 0.8795\n",
            "Epoch 82/100\n",
            "469/469 [==============================] - 8s 17ms/step - loss: 0.4184 - accuracy: 0.8564 - val_loss: 0.3479 - val_accuracy: 0.8798\n",
            "Epoch 83/100\n",
            "469/469 [==============================] - 8s 17ms/step - loss: 0.4165 - accuracy: 0.8579 - val_loss: 0.3476 - val_accuracy: 0.8795\n",
            "Epoch 84/100\n",
            "469/469 [==============================] - 8s 17ms/step - loss: 0.4210 - accuracy: 0.8563 - val_loss: 0.3461 - val_accuracy: 0.8806\n",
            "Epoch 85/100\n",
            "469/469 [==============================] - 8s 17ms/step - loss: 0.4151 - accuracy: 0.8581 - val_loss: 0.3450 - val_accuracy: 0.8807\n",
            "Epoch 86/100\n",
            "469/469 [==============================] - 8s 17ms/step - loss: 0.4156 - accuracy: 0.8572 - val_loss: 0.3443 - val_accuracy: 0.8806\n",
            "Epoch 87/100\n",
            "469/469 [==============================] - 8s 17ms/step - loss: 0.4108 - accuracy: 0.8585 - val_loss: 0.3431 - val_accuracy: 0.8810\n",
            "Epoch 88/100\n",
            "469/469 [==============================] - 8s 18ms/step - loss: 0.4089 - accuracy: 0.8601 - val_loss: 0.3424 - val_accuracy: 0.8808\n",
            "Epoch 89/100\n",
            "469/469 [==============================] - 8s 17ms/step - loss: 0.4081 - accuracy: 0.8599 - val_loss: 0.3417 - val_accuracy: 0.8809\n",
            "Epoch 90/100\n",
            "469/469 [==============================] - 8s 17ms/step - loss: 0.4117 - accuracy: 0.8604 - val_loss: 0.3412 - val_accuracy: 0.8820\n",
            "Epoch 91/100\n",
            "469/469 [==============================] - 8s 17ms/step - loss: 0.4072 - accuracy: 0.8604 - val_loss: 0.3404 - val_accuracy: 0.8816\n",
            "Epoch 92/100\n",
            "469/469 [==============================] - 8s 18ms/step - loss: 0.4092 - accuracy: 0.8607 - val_loss: 0.3398 - val_accuracy: 0.8820\n",
            "Epoch 93/100\n",
            "469/469 [==============================] - 8s 17ms/step - loss: 0.4041 - accuracy: 0.8622 - val_loss: 0.3386 - val_accuracy: 0.8813\n",
            "Epoch 94/100\n",
            "469/469 [==============================] - 8s 17ms/step - loss: 0.4023 - accuracy: 0.8624 - val_loss: 0.3376 - val_accuracy: 0.8822\n",
            "Epoch 95/100\n",
            "469/469 [==============================] - 8s 18ms/step - loss: 0.4033 - accuracy: 0.8604 - val_loss: 0.3370 - val_accuracy: 0.8821\n",
            "Epoch 96/100\n",
            "469/469 [==============================] - 8s 17ms/step - loss: 0.4042 - accuracy: 0.8612 - val_loss: 0.3367 - val_accuracy: 0.8829\n",
            "Epoch 97/100\n",
            "469/469 [==============================] - 8s 17ms/step - loss: 0.4020 - accuracy: 0.8608 - val_loss: 0.3358 - val_accuracy: 0.8836\n",
            "Epoch 98/100\n",
            "469/469 [==============================] - 8s 17ms/step - loss: 0.3993 - accuracy: 0.8623 - val_loss: 0.3348 - val_accuracy: 0.8835\n",
            "Epoch 99/100\n",
            "469/469 [==============================] - 8s 17ms/step - loss: 0.3994 - accuracy: 0.8646 - val_loss: 0.3335 - val_accuracy: 0.8840\n",
            "Epoch 100/100\n",
            "469/469 [==============================] - 8s 17ms/step - loss: 0.3957 - accuracy: 0.8641 - val_loss: 0.3328 - val_accuracy: 0.8844\n",
            "Test loss: 0.3328445851802826\n",
            "Test accuracy: 0.8844000101089478\n"
          ],
          "name": "stdout"
        }
      ]
    },
    {
      "cell_type": "code",
      "metadata": {
        "id": "lE9aiDjmHy76",
        "colab_type": "code",
        "colab": {
          "base_uri": "https://localhost:8080/",
          "height": 121
        },
        "outputId": "2ade5702-8811-4c84-fe56-166eacab5850"
      },
      "source": [
        "#Mount the google drive\n",
        "from google.colab import drive\n",
        "drive.mount('/content/drive')"
      ],
      "execution_count": 8,
      "outputs": [
        {
          "output_type": "stream",
          "text": [
            "Go to this URL in a browser: https://accounts.google.com/o/oauth2/auth?client_id=947318989803-6bn6qk8qdgf4n4g3pfee6491hc0brc4i.apps.googleusercontent.com&redirect_uri=urn%3aietf%3awg%3aoauth%3a2.0%3aoob&response_type=code&scope=email%20https%3a%2f%2fwww.googleapis.com%2fauth%2fdocs.test%20https%3a%2f%2fwww.googleapis.com%2fauth%2fdrive%20https%3a%2f%2fwww.googleapis.com%2fauth%2fdrive.photos.readonly%20https%3a%2f%2fwww.googleapis.com%2fauth%2fpeopleapi.readonly\n",
            "\n",
            "Enter your authorization code:\n",
            "··········\n",
            "Mounted at /content/drive\n"
          ],
          "name": "stdout"
        }
      ]
    },
    {
      "cell_type": "code",
      "metadata": {
        "id": "3BDnAqerJc6s",
        "colab_type": "code",
        "colab": {}
      },
      "source": [
        "# Change the directory to current working directory\n",
        "import os\n",
        "os.chdir(\"/content/drive/My Drive\")"
      ],
      "execution_count": 12,
      "outputs": []
    },
    {
      "cell_type": "code",
      "metadata": {
        "id": "PmACEqXEYM96",
        "colab_type": "code",
        "colab": {}
      },
      "source": [
        "# Save the model with the name clothing_classification_model\n",
        "model.save('clothing_classification_model.h5')"
      ],
      "execution_count": 13,
      "outputs": []
    },
    {
      "cell_type": "code",
      "metadata": {
        "id": "5NQr-s4FUuJ7",
        "colab_type": "code",
        "colab": {
          "base_uri": "https://localhost:8080/",
          "height": 121
        },
        "outputId": "ec40b103-9e0b-4bc3-b5ee-25d80e71d28f"
      },
      "source": [
        "\n",
        "# Import few more necessary libraries.\n",
        "from keras.models import load_model\n",
        "from keras.preprocessing.image import load_img\n",
        "from keras.preprocessing.image import img_to_array\n",
        "\n",
        "# Function to load and prepare the image in right shape\n",
        "def load_image(filename):\n",
        "\t# Load the image\n",
        "\timg = load_img(filename, grayscale=True, target_size=(28, 28))\n",
        "\t# Convert the image to array\n",
        "\timg = img_to_array(img)\n",
        "\t# Reshape the image into a sample of 1 channel\n",
        "\timg = img.reshape(1, 28, 28, 1)\n",
        "\t# Prepare it as pixel data\n",
        "\timg = img.astype('float32')\n",
        "\timg = img / 255.0\n",
        "\treturn img\n",
        "\n",
        "# Load an image and predict the apparel class\n",
        "img = load_image('Sandals.jpg')\n",
        "# Load the saved model\n",
        "model = load_model('clothing_classification_model.h5')\n",
        "# Predict the apparel class\n",
        "class_prediction = model.predict_classes(img)\n",
        "print(class_prediction[0])\n",
        "\n",
        "#Map apparel category with the numerical class\n",
        "if class_prediction[0] == 0:\n",
        "  product = \"T-shirt/top\"\n",
        "elif class_prediction[0] == 1:\n",
        "  product = \"Trouser\"\n",
        "elif class_prediction[0] == 2:\n",
        "  product = \"Pullover\"\n",
        "elif class_prediction[0] == 3:\n",
        "  product = \"Dress\"\n",
        "elif class_prediction[0] == 4:\n",
        "  product = \"Coat\"\n",
        "elif class_prediction[0] == 5:\n",
        "  product = \"Sandal\"\n",
        "elif class_prediction[0] == 6:\n",
        "  product = \"Shirt\"\n",
        "elif class_prediction[0] == 7:\n",
        "  product = \"Sneaker\"\n",
        "elif class_prediction[0] == 8:\n",
        "  product = \"Bag\"\n",
        "else:\n",
        "  product = \"Ankle boot\"\n",
        "\n",
        "print(product)\n"
      ],
      "execution_count": 21,
      "outputs": [
        {
          "output_type": "stream",
          "text": [
            "/usr/local/lib/python3.6/dist-packages/keras_preprocessing/image/utils.py:107: UserWarning: grayscale is deprecated. Please use color_mode = \"grayscale\"\n",
            "  warnings.warn('grayscale is deprecated. Please use '\n"
          ],
          "name": "stderr"
        },
        {
          "output_type": "stream",
          "text": [
            "WARNING:tensorflow:5 out of the last 5 calls to <function Model.make_predict_function.<locals>.predict_function at 0x7f9255403ea0> triggered tf.function retracing. Tracing is expensive and the excessive number of tracings could be due to (1) creating @tf.function repeatedly in a loop, (2) passing tensors with different shapes, (3) passing Python objects instead of tensors. For (1), please define your @tf.function outside of the loop. For (2), @tf.function has experimental_relax_shapes=True option that relaxes argument shapes that can avoid unnecessary retracing. For (3), please refer to https://www.tensorflow.org/tutorials/customization/performance#python_or_tensor_args and https://www.tensorflow.org/api_docs/python/tf/function for  more details.\n",
            "5\n",
            "Sandal\n"
          ],
          "name": "stdout"
        }
      ]
    }
  ]
}